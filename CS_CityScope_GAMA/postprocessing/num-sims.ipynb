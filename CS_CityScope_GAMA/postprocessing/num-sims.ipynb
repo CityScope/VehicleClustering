{
 "cells": [
  {
   "cell_type": "code",
   "execution_count": 1,
   "metadata": {},
   "outputs": [],
   "source": [
    "import numpy as np\n",
    "import pandas as pd\n",
    "import os\n",
    "import glob"
   ]
  },
  {
   "cell_type": "code",
   "execution_count": 6,
   "metadata": {},
   "outputs": [],
   "source": [
    "os.chdir(\"../data/2023-01-30 05.00.00\")"
   ]
  },
  {
   "cell_type": "code",
   "execution_count": 25,
   "metadata": {},
   "outputs": [],
   "source": [
    "if True: #Load all csv files in directory and concat just once \n",
    "    extension = 'csv'\n",
    "\n",
    "    #Bike trips\n",
    "    bike_filenames =[i for i in glob.glob('people_trips_*.{}'.format(extension))]"
   ]
  },
  {
   "cell_type": "code",
   "execution_count": 27,
   "metadata": {},
   "outputs": [
    {
     "name": "stdout",
     "output_type": "stream",
     "text": [
      "(2304, 21)\n",
      "(571, 21)\n",
      "(1718, 21)\n",
      "(1719, 21)\n",
      "(1722, 21)\n",
      "(567, 21)\n",
      "(575, 21)\n",
      "(582, 21)\n",
      "(1709, 21)\n",
      "(573, 21)\n",
      "(1156, 21)\n",
      "(1721, 21)\n",
      "(1146, 21)\n",
      "(574, 21)\n",
      "(570, 21)\n",
      "(1718, 21)\n",
      "(1152, 21)\n",
      "(572, 21)\n",
      "(571, 21)\n",
      "(1718, 21)\n",
      "(2289, 21)\n",
      "(1716, 21)\n",
      "(573, 21)\n",
      "(569, 21)\n",
      "(1718, 21)\n",
      "(571, 21)\n",
      "(1713, 21)\n",
      "(573, 21)\n",
      "(574, 21)\n",
      "(2289, 21)\n",
      "(1725, 21)\n",
      "(1709, 21)\n",
      "(1146, 21)\n",
      "(1144, 21)\n",
      "(578, 21)\n",
      "(574, 21)\n",
      "(1720, 21)\n",
      "(572, 21)\n",
      "(2302, 21)\n",
      "(2295, 21)\n",
      "(1728, 21)\n",
      "(1715, 21)\n",
      "(570, 21)\n",
      "(1717, 21)\n",
      "(576, 21)\n",
      "(1725, 21)\n"
     ]
    }
   ],
   "source": [
    "for file in bike_filenames:\n",
    "    file_df = pd.read_csv(file)\n",
    "    print(file_df.shape)\n",
    "    #file_df['Wait Time (min)']= pd.to_numeric(file_df['Wait Time (min)'],errors='ignore')\n",
    "    #print(file_df['Wait Time (min)'].mean())"
   ]
  }
 ],
 "metadata": {
  "kernelspec": {
   "display_name": "py36",
   "language": "python",
   "name": "python3"
  },
  "language_info": {
   "codemirror_mode": {
    "name": "ipython",
    "version": 3
   },
   "file_extension": ".py",
   "mimetype": "text/x-python",
   "name": "python",
   "nbconvert_exporter": "python",
   "pygments_lexer": "ipython3",
   "version": "3.6.10"
  },
  "orig_nbformat": 4,
  "vscode": {
   "interpreter": {
    "hash": "533cbd8364415761492fb666f02e54e9198e2870e012b048fa2f0067ebd38d2f"
   }
  }
 },
 "nbformat": 4,
 "nbformat_minor": 2
}
